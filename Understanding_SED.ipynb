{
 "cells": [
  {
   "cell_type": "markdown",
   "metadata": {
    "collapsed": true
   },
   "source": [
    "# Understanding SED"
   ]
  },
  {
   "cell_type": "markdown",
   "metadata": {},
   "source": [
    "<hr>\n",
    "\n",
    "If you're using OSX (mac) I recommend to install GNU sed. The sed version that comes preinstalled with OSX is \n",
    "\n",
    "> `$ brew install gnu-sed`\n",
    "\n",
    "Then edit the `.bash_profile`, add:\n",
    "\n",
    "> `alias sed='gsed'`\n",
    "\n",
    "Save the file and then 'refresh' the profile by typing:\n",
    "\n",
    "> `$ source .bash_profile`\n",
    "\n",
    "(or close and open the terminal again).\n",
    "\n",
    "<hr>"
   ]
  },
  {
   "cell_type": "markdown",
   "metadata": {},
   "source": [
    "### Intro\n",
    "\n",
    "_I'll use `sed`, SED, sed interchangeably in this tutorial._\n",
    "\n",
    "<hr>\n",
    "\n",
    "# <center> ! </center>\n",
    "\n",
    "If you're looking for a more simple approach for text/pattern processing (searching, replacing, extracting) I'd recommend to stick to `grep`. \n",
    "\n",
    "<br>\n",
    "\n",
    "<hr>"
   ]
  },
  {
   "cell_type": "markdown",
   "metadata": {},
   "source": [
    "`sed` is a special type of text editor. It will allow you to automatically edit (ie, substitute) text files using pattern matching (regular expressions) while using conditions (or not).\n",
    "\n",
    "`sed` stands for __s__tream __ed__itor (for filtering and transforming text). It will read a text file and perform operations (like substitutions or deletions) and output the results. \n",
    "\n",
    "In its simplest form sed reads the text file line by line, if the pattern looked for is matched performs an operation and prints the result.\n",
    "\n",
    "With sed you can convert DNA sequences to RNA or viceversa, change complete words and even sentences from text files."
   ]
  },
  {
   "cell_type": "code",
   "execution_count": null,
   "metadata": {
    "collapsed": true
   },
   "outputs": [],
   "source": []
  },
  {
   "cell_type": "markdown",
   "metadata": {},
   "source": [
    "### Getting started with `sed`"
   ]
  },
  {
   "cell_type": "code",
   "execution_count": 58,
   "metadata": {
    "collapsed": false
   },
   "outputs": [
    {
     "name": "stdout",
     "output_type": "stream",
     "text": [
      "The Zen of Python, by Tim Peters\r\n",
      "\r\n",
      "Beautiful isnt better than ugly.\r\n",
      "Explicit isnt better than implicit.\r\n",
      "Simple isnt better than complex.\r\n",
      "Complex isnt better than complicated.\r\n",
      "Flat isnt better than nested.\r\n",
      "Sparse isnt better than dense.\r\n",
      "Readability counts.\r\n",
      "Special cases aren't special enough to break the rules.\r\n"
     ]
    }
   ],
   "source": [
    "sed 's/is/isnt/' zen.txt | head # > newZen.txt # Add this to redirect to a new file."
   ]
  },
  {
   "cell_type": "code",
   "execution_count": 15,
   "metadata": {
    "collapsed": false
   },
   "outputs": [
    {
     "name": "stdout",
     "output_type": "stream",
     "text": [
      "The Zen of Python, by Tim Peters\r\n",
      "\r\n",
      "Beautiful isnt better than ugly.\r\n",
      "Explicit isnt better than implicit.\r\n",
      "Simple is better than complex.\r\n",
      "Complex is better than complicated.\r\n"
     ]
    }
   ],
   "source": [
    "## Change only lines 1-4\n",
    "sed '1,4s/is/isnt/g'<zen.txt | head -n6 # > newZen.txt # Add this to redirect to a new file."
   ]
  },
  {
   "cell_type": "code",
   "execution_count": 77,
   "metadata": {
    "collapsed": false
   },
   "outputs": [
    {
     "name": "stdout",
     "output_type": "stream",
     "text": [
      "The Zen of Python, by Tim Peters\r\n",
      "\r\n",
      "Beautiful is better than ugly.\r\n",
      "Explicit is better than implicit.\r\n",
      "Simple isnt better than complex.\r\n",
      "Complex isnt better than complicated.\r\n"
     ]
    }
   ],
   "source": [
    "## Change all lines  EXCEPT 1-4\n",
    "sed '1,4!s/is/isnt/g'<zen.txt | head -n6 # > newZen.txt # Add this to redirect to a new file."
   ]
  },
  {
   "cell_type": "markdown",
   "metadata": {},
   "source": [
    "Unless specified, `sed` will only perform the substitution in the first (if found) occurence:"
   ]
  },
  {
   "cell_type": "code",
   "execution_count": 63,
   "metadata": {
    "collapsed": false
   },
   "outputs": [
    {
     "name": "stdout",
     "output_type": "stream",
     "text": [
      "ThE Zen of Python, by Tim Peters\r\n",
      "\r\n",
      "BEautiful is better than ugly.\r\n",
      "Explicit is bEtter than implicit.\r\n",
      "SimplE is better than complex.\r\n",
      "ComplEx is better than complicated.\r\n",
      "Flat is bEtter than nested.\r\n",
      "SparsE is better than dense.\r\n",
      "REadability counts.\r\n",
      "SpEcial cases aren't special enough to break the rules.\r\n"
     ]
    }
   ],
   "source": [
    "sed 's/e/E/' zen.txt | head # > newZen.txt # Add this to redirect to a new file."
   ]
  },
  {
   "cell_type": "markdown",
   "metadata": {},
   "source": [
    "To instruct `sed` to make changes in ALL occurrences use __g__ (global):"
   ]
  },
  {
   "cell_type": "code",
   "execution_count": 70,
   "metadata": {
    "collapsed": false,
    "variables": {
     "echo $a": "2",
     "echo a": "a"
    }
   },
   "outputs": [
    {
     "name": "stdout",
     "output_type": "stream",
     "text": [
      "Thu Zun of Python, by Tim Puturs\r\n",
      "\r\n",
      "Buautiful is buttur than ugly.\r\n",
      "Explicit is buttur than implicit.\r\n",
      "Simplu is buttur than complux.\r\n",
      "Complux is buttur than complicatud.\r\n",
      "Flat is buttur than nustud.\r\n",
      "Sparsu is buttur than dunsu.\r\n",
      "Ruadability counts.\r\n",
      "Spucial casus arun't spucial unough to bruak thu rulus.\r\n"
     ]
    }
   ],
   "source": [
    "sed 's/e/u/g' zen.txt | head # > newZen.txt # Add this to redirect to a new file."
   ]
  },
  {
   "cell_type": "markdown",
   "metadata": {},
   "source": [
    "## <center> ! </center>\n",
    "\n",
    "Caution, `sed` makes changes whenever it finds a matching pattern so you have to be careful to specify the pattern so it won't have any unintended consequences:\n",
    "\n",
    "(example from the [grymoire](http://www.grymoire.com/Unix/sed.html))"
   ]
  },
  {
   "cell_type": "code",
   "execution_count": 125,
   "metadata": {
    "collapsed": false
   },
   "outputs": [
    {
     "name": "stdout",
     "output_type": "stream",
     "text": [
      "Sunnight\r\n"
     ]
    }
   ],
   "source": [
    "echo Sunday | sed 's/day/night/'"
   ]
  },
  {
   "cell_type": "markdown",
   "metadata": {},
   "source": [
    "<hr>"
   ]
  },
  {
   "cell_type": "markdown",
   "metadata": {},
   "source": [
    "#### Formatting files with  `sed`\n",
    "\n",
    "Sometimes a delimited text file will have whitspaces - leading (at the start) or trailing (at the end)- or (for any reason) empty lines. With `sed` we can delete those trailing whitespaces that might affect how a program that will process the file behaves."
   ]
  },
  {
   "cell_type": "code",
   "execution_count": 56,
   "metadata": {
    "collapsed": false
   },
   "outputs": [
    {
     "name": "stdout",
     "output_type": "stream",
     "text": [
      " rowA\t\t1\t9\t\r\n",
      "\r\n",
      " . \t2\t7\t10\r\n",
      "file3\t3\t6\t20\r\n",
      " file4\t4\t5\t\r\n",
      "line_a\t12\t13\t144\r\n",
      " line_b\t\t\t177\r\n"
     ]
    }
   ],
   "source": [
    "## This file has leading and trailing whitespaces and an empty line.\n",
    "# trailing whitespaces are harder to notice but if they exist in some lines they can affect the response of some programs.\n",
    "head sed_test.txt"
   ]
  },
  {
   "cell_type": "code",
   "execution_count": 35,
   "metadata": {
    "collapsed": false
   },
   "outputs": [
    {
     "name": "stdout",
     "output_type": "stream",
     "text": [
      "rowA\t\t1\t9\t\r\n",
      "\r\n",
      ". \t2\t7\t10\r\n",
      "file3\t3\t6\t20\r\n",
      "file4\t4\t5\t\r\n",
      "line_a\t12\t13\t144\r\n",
      "line_b\t\t\t177\r\n"
     ]
    }
   ],
   "source": [
    "## Delete leading tab spaces\n",
    "sed 's/^[ \\t]*//' sed_test.txt"
   ]
  },
  {
   "cell_type": "code",
   "execution_count": 37,
   "metadata": {
    "collapsed": false
   },
   "outputs": [
    {
     "name": "stdout",
     "output_type": "stream",
     "text": [
      "rowA\t\t1\t9\t\r\n",
      "\r\n",
      ". \t2\t7\t10\r\n",
      "file3\t3\t6\t20\r\n",
      "file4\t4\t5\t\r\n",
      "line_a\t12\t13\t144\r\n",
      "line_b\t\t\t177\r\n"
     ]
    }
   ],
   "source": [
    "## Delete both leading and trailing whitespaces.\n",
    "# sed can accept multiple patterns separated by semicolons:\n",
    "# sed 's/pattern1/substitution1/;s/pattern2/substitution2/'\n",
    "sed 's/^[ \\t]*//;s/[ \\t]*$//' sed_test.txt"
   ]
  },
  {
   "cell_type": "code",
   "execution_count": 39,
   "metadata": {
    "collapsed": false
   },
   "outputs": [
    {
     "name": "stdout",
     "output_type": "stream",
     "text": [
      "rowA\t\t1\t9\t...\r\n",
      "...\r\n",
      ". \t2\t7\t10...\r\n",
      "file3\t3\t6\t20...\r\n",
      "file4\t4\t5\t...\r\n",
      "line_a\t12\t13\t144...\r\n",
      "line_b\t\t\t177...\r\n"
     ]
    }
   ],
   "source": [
    "# How do we know this works? Instead of deleting add a character\n",
    "sed 's/^[ \\t]*//;s/[ \\t]*$/.../' sed_test.txt"
   ]
  },
  {
   "cell_type": "code",
   "execution_count": 41,
   "metadata": {
    "collapsed": false
   },
   "outputs": [
    {
     "name": "stdout",
     "output_type": "stream",
     "text": [
      " rowA\t\t1\t9\t\r\n",
      " . \t2\t7\t10\r\n",
      "file3\t3\t6\t20\r\n",
      " file4\t4\t5\t\r\n",
      "line_a\t12\t13\t144\r\n",
      " line_b\t\t\t177\r\n"
     ]
    }
   ],
   "source": [
    "# We can delete blank linkes:\n",
    "# sed '/pattern/delete'\n",
    "sed '/^$/d' sed_test.txt"
   ]
  },
  {
   "cell_type": "markdown",
   "metadata": {},
   "source": [
    "## How sed works?\n",
    "\n",
    "\n",
    "A basic `sed` instruction is given by an action (ie ``s``), a __pattern__ and a __substitution__ enclosed in a `delimiter` and (optional) another action.\n",
    "\n",
    "> `sed 's/is/isnt/' zen.txt | head`\n",
    "\n",
    "\n",
    "> `action/pattern/substitute/action`\n",
    "\n",
    "The pattern and substitute need to be encolsed within __three__ delimiters. Conventionally they're slashes (__/__) but any other symbol will work\n",
    "\n",
    "\n",
    "> `sed 's*is*isnt*' zen.txt | head` <br>\n",
    "> `sed 's_is_isnt_' zen.txt | head`<br>\n",
    "> `sed 's:is:isnt:' zen.txt | head`<br>\n",
    "\n"
   ]
  },
  {
   "cell_type": "markdown",
   "metadata": {},
   "source": [
    "## Actions"
   ]
  },
  {
   "cell_type": "markdown",
   "metadata": {},
   "source": [
    "__d__ for delete.\n",
    "\n",
    "We can delete specific lines or those that match a pattern"
   ]
  },
  {
   "cell_type": "code",
   "execution_count": 127,
   "metadata": {
    "collapsed": false
   },
   "outputs": [
    {
     "name": "stdout",
     "output_type": "stream",
     "text": [
      "The Zen of Python, by Tim Peters\r\n",
      "\r\n",
      "Beautiful is better than ugly.\r\n",
      "Explicit is better than implicit.\r\n",
      "Simple is better than complex.\r\n",
      "Complex is better than complicated.\r\n"
     ]
    }
   ],
   "source": [
    "head -n 6 zen.txt "
   ]
  },
  {
   "cell_type": "code",
   "execution_count": 128,
   "metadata": {
    "collapsed": false
   },
   "outputs": [
    {
     "name": "stdout",
     "output_type": "stream",
     "text": [
      "Simple is better than complex.\r\n",
      "Complex is better than complicated.\r\n",
      "Flat is better than nested.\r\n",
      "Sparse is better than dense.\r\n",
      "Readability counts.\r\n",
      "Special cases aren't special enough to break the rules.\r\n"
     ]
    }
   ],
   "source": [
    "# Delete first 4 lines\n",
    "sed '1,4d' <zen.txt | head -n 6"
   ]
  },
  {
   "cell_type": "code",
   "execution_count": 129,
   "metadata": {
    "collapsed": false
   },
   "outputs": [
    {
     "name": "stdout",
     "output_type": "stream",
     "text": [
      "The Zen of Python, by Tim Peters\r\n",
      "\r\n",
      "Beautiful is better than ugly.\r\n",
      "Explicit is better than implicit.\r\n"
     ]
    }
   ],
   "source": [
    "# Delete ALL except first 4 lines\n",
    "sed '1,4!d' <zen.txt | head -n 6"
   ]
  },
  {
   "cell_type": "markdown",
   "metadata": {},
   "source": [
    "### no printing and printing\n",
    "\n",
    "the __`-n`__ option will avoid printing a line if the pattern isn't matched. We must turn on print again with the  __`/p`__ flag after the pattern delimiter.\n",
    "\n",
    "This mode of `sed` mimics output from `grep`."
   ]
  },
  {
   "cell_type": "code",
   "execution_count": 293,
   "metadata": {
    "collapsed": false
   },
   "outputs": [
    {
     "name": "stdout",
     "output_type": "stream",
     "text": [
      "      29\r\n"
     ]
    }
   ],
   "source": [
    "# Will read everything\n",
    "sed '/better/p' zen.txt | wc -l"
   ]
  },
  {
   "cell_type": "markdown",
   "metadata": {},
   "source": [
    "From the sed manual:\n",
    "\n",
    "<pre>\n",
    "        -n    By default, each line of input is echoed to the standard output\n",
    "              after all of the commands have been applied to it.  The -n option\n",
    "              suppresses this behavior. \n",
    "</pre>"
   ]
  },
  {
   "cell_type": "code",
   "execution_count": 295,
   "metadata": {
    "collapsed": false
   },
   "outputs": [
    {
     "name": "stdout",
     "output_type": "stream",
     "text": [
      "       8\r\n",
      "---\r\n",
      "Beautiful is better than ugly.\r\n",
      "Explicit is better than implicit.\r\n",
      "Simple is better than complex.\r\n",
      "Complex is better than complicated.\r\n",
      "Flat is better than nested.\r\n",
      "Sparse is better than dense.\r\n",
      "Now is better than never.\r\n",
      "Although never is often better than *right* now.\r\n"
     ]
    }
   ],
   "source": [
    "## Only matched lines will be printed.\n",
    "sed -n '/better/p' zen.txt  | wc -l\n",
    "echo \"---\"\n",
    "sed -n '/better/p' zen.txt "
   ]
  },
  {
   "cell_type": "code",
   "execution_count": 296,
   "metadata": {
    "collapsed": false
   },
   "outputs": [
    {
     "name": "stdout",
     "output_type": "stream",
     "text": [
      "Beautiful is better than ugly.\r\n",
      "Explicit is better than implicit.\r\n",
      "Simple is better than complex.\r\n",
      "Complex is better than complicated.\r\n",
      "Flat is better than nested.\r\n",
      "Sparse is better than dense.\r\n",
      "Now is better than never.\r\n",
      "Although never is often better than *right* now.\r\n"
     ]
    }
   ],
   "source": [
    "# Same results with grep:\n",
    "grep 'better' zen.txt"
   ]
  },
  {
   "cell_type": "code",
   "execution_count": 320,
   "metadata": {
    "collapsed": false
   },
   "outputs": [
    {
     "name": "stdout",
     "output_type": "stream",
     "text": [
      "The Zen of Python, by Tim Peters\r\n",
      "The Zen of Python, by Tim Peters\r\n",
      "\r\n",
      "\r\n",
      "Beautiful is better than ugly.\r\n",
      "Beautiful is better than ugly.\r\n",
      "Explicit is better than implicit.\r\n",
      "Explicit is better than implicit.\r\n",
      "Simple is better than complex.\r\n",
      "Simple is better than complex.\r\n"
     ]
    }
   ],
   "source": [
    "## Duplicate first n lines\n",
    "sed '1,6 p' zen.txt | head"
   ]
  },
  {
   "cell_type": "code",
   "execution_count": 322,
   "metadata": {
    "collapsed": false
   },
   "outputs": [
    {
     "name": "stdout",
     "output_type": "stream",
     "text": [
      "Now is better than never.\r\n",
      "Now is better than never.\r\n",
      "Although never is often better than *right* now.\r\n",
      "Although never is often better than *right* now.\r\n",
      "If the implementation is hard to explain, it's a bad idea.\r\n",
      "If the implementation is hard to explain, it's a bad idea.\r\n",
      "If the implementation is easy to explain, it may be a good idea.\r\n",
      "If the implementation is easy to explain, it may be a good idea.\r\n",
      "Namespaces are one honking great idea -- let's do more of those!\r\n",
      "Namespaces are one honking great idea -- let's do more of those!\r\n"
     ]
    }
   ],
   "source": [
    "## Duplicate last n lines\n",
    "sed '11,$ p' zen.txt | tail"
   ]
  },
  {
   "cell_type": "markdown",
   "metadata": {},
   "source": [
    "### delete\n",
    "\n",
    "WIll 'remove' (not print) lines matching a pattern. This can be useful to trim patterns, delete the first N lines, etc."
   ]
  },
  {
   "cell_type": "code",
   "execution_count": 312,
   "metadata": {
    "collapsed": false
   },
   "outputs": [
    {
     "name": "stdout",
     "output_type": "stream",
     "text": [
      "The Zen of Python, by Tim Peters\r\n",
      "\r\n",
      "Beautiful is better than ugly.\r\n",
      "Explicit is better than implicit.\r\n",
      "Simple is better than complex.\r\n"
     ]
    }
   ],
   "source": [
    "## Delete lines from 11 to end of file\n",
    "sed '6,$ d' zen.txt"
   ]
  },
  {
   "cell_type": "code",
   "execution_count": 133,
   "metadata": {
    "collapsed": false
   },
   "outputs": [
    {
     "name": "stdout",
     "output_type": "stream",
     "text": [
      "The Zen of Python, by Tim Peters\r\n",
      "\r\n",
      "Readability counts.\r\n",
      "Special cases aren't special enough to break the rules.\r\n",
      "Although practicality beats purity.\r\n",
      "Errors should never pass silently.\r\n",
      "Unless explicitly silenced.\r\n",
      "In the face of ambiguity, refuse the temptation to guess.\r\n",
      "There should be one-- and preferably only one --obvious way to do it.\r\n",
      "Although that way may not be obvious at first unless you're Dutch.\r\n",
      "If the implementation is hard to explain, it's a bad idea.\r\n",
      "If the implementation is easy to explain, it may be a good idea.\r\n",
      "Namespaces are one honking great idea -- let's do more of those!\r\n"
     ]
    }
   ],
   "source": [
    "# Ignore lines with a pattern.\n",
    "sed '/better/d' zen.txt"
   ]
  },
  {
   "cell_type": "code",
   "execution_count": 134,
   "metadata": {
    "collapsed": false
   },
   "outputs": [
    {
     "name": "stdout",
     "output_type": "stream",
     "text": [
      "The Zen of Python, by Tim Peters\r\n",
      "\r\n",
      "Readability counts.\r\n",
      "Special cases aren't special enough to break the rules.\r\n",
      "Although practicality beats purity.\r\n",
      "Errors should never pass silently.\r\n",
      "Unless explicitly silenced.\r\n",
      "In the face of ambiguity, refuse the temptation to guess.\r\n",
      "There should be one-- and preferably only one --obvious way to do it.\r\n",
      "Although that way may not be obvious at first unless you're Dutch.\r\n",
      "If the implementation is hard to explain, it's a bad idea.\r\n",
      "If the implementation is easy to explain, it may be a good idea.\r\n",
      "Namespaces are one honking great idea -- let's do more of those!\r\n"
     ]
    }
   ],
   "source": [
    "# Same results with grep:\n",
    "grep -v 'better' zen.txt"
   ]
  },
  {
   "cell_type": "code",
   "execution_count": 135,
   "metadata": {
    "collapsed": false
   },
   "outputs": [
    {
     "name": "stdout",
     "output_type": "stream",
     "text": [
      "@HD\tVN:1.0\tSO:unsorted\r\n",
      "@SQ\tSN:Chr1\tLN:30427671\r\n",
      "@SQ\tSN:Chr2\tLN:19698289\r\n",
      "@SQ\tSN:Chr3\tLN:23459830\r\n",
      "@SQ\tSN:Chr4\tLN:18585056\r\n",
      "@SQ\tSN:Chr5\tLN:26975502\r\n",
      "@SQ\tSN:chloroplast\tLN:154478\r\n",
      "@SQ\tSN:mitochondria\tLN:366924\r\n",
      "@PG\tID:Bowtie\tVN:1.2.1.1\tCL:\"bowtie-align --wrapper basic-0 -a --best --strata -n 1 -m 1 -p 4 --sam --tryhard athGenome/bwt1_genome/athIndex - -S AlignedReads/bwt1_genome/testSeq.sam\"\r\n"
     ]
    }
   ],
   "source": [
    "## Print only the header of a SAM file\n",
    "sed -n '/@/p' SAM_header.sam"
   ]
  },
  {
   "cell_type": "code",
   "execution_count": 136,
   "metadata": {
    "collapsed": false
   },
   "outputs": [
    {
     "name": "stdout",
     "output_type": "stream",
     "text": [
      "SRR1463325.44\t16\tChr1\t25048610\t255\t48M\t*\t0\t0\tGTGCAACCGAACAAGGGAAGCTTCCACATTGTCCAGTACCGTCCATCA\tFFIIIIIIIIIIIIIIIIIIIIIIFFIIIIIFIIIIIFIIIIIIIIFF\tXA:i:0\tMD:Z:48\tNM:i:0\tXM:i:2\r\n",
      "SRR1463325.45\t16\tChr4\t8917612\t255\t48M\t*\t0\t0\tTAACGATGAGAGTTTTGGCTTTGGTCCTAACAATGGTAGCTGCGACAG\tIIIIIIIIFIIIIIIIFIIIIIIIIIIIIIIIIIIIIIIIIIIIIIFF\tXA:i:0\tMD:Z:48\tNM:i:0\tXM:i:2\r\n",
      "SRR1463325.49\t0\tchloroplast\t38699\t255\t48M\t*\t0\t0\tTTCGTTCTATACATATGACCCGCAATGAGGAAAAGAATTGCGATAGCT\tFFFFFIIFFIIFIFFFFIFFFFFIIFFFBFFIFIIIIIIFBFIIIIII\tXA:i:0\tMD:Z:48\tNM:i:0\tXM:i:2\r\n",
      "SRR1463325.52\t16\tchloroplast\t52634\t255\t48M\t*\t0\t0\tCGGAGTCAGTACACAAAGATTTAAGGTCATTTCTTCAATTTACTCTCC\tIIIIFFIIIIFIIIIIIIIIIIIIIIIIIIIIFIIIIIFIFBIFIFFF\tXA:i:0\tMD:Z:48\tNM:i:0\tXM:i:2\r\n",
      "SRR1463325.58\t0\tchloroplast\t76111\t255\t48M\t*\t0\t0\tACGCTATTCCGGTAATAGGATCACCTCTTGTAGAATTATTACGCGGAA\tFFFIIIIIIIIIIIIIIIIIIIIIIBFFIIBFFIIIIIIIIFFFIFFF\tXA:i:0\tMD:Z:48\tNM:i:0\tXM:i:2\r\n",
      "SRR1463325.63\t0\tChr4\t16355475\t255\t48M\t*\t0\t0\tTGTCTGGAATAGCAACACTCTCTCCACTGATGACTTCATTGGCAATGC\tFFIIIIIIIIIIIIIFFIIIIIIIIIIIIFFIIIIIIIIIIIIIIIII\tXA:i:0\tMD:Z:48\tNM:i:0\tXM:i:2\r\n",
      "SRR1463325.69\t0\tChr5\t24362617\t255\t48M\t*\t0\t0\tTGCTCGAAGCACCTGACCAAGATTTTGATTTTCTTAGGAATACTTCCT\tFFIIIIIIIIIIIIIIIIIIIFIIIIIFIIIIIIIIIIIIIIIIIIII\tXA:i:0\tMD:Z:48\tNM:i:0\tXM:i:2\r\n",
      "SRR1463325.72\t16\tchloroplast\t33091\t255\t48M\t*\t0\t0\tGTTACGTCAATTTGAACTTGCTCGATCTGTTCAATTGCGACCTTATAA\tIIIIIIIIIIIIIIIFIIIIIIIIIIIIIIIIIIIIIIIFIIIIIIFF\tXA:i:0\tMD:Z:48\tNM:i:0\tXM:i:2\r\n",
      "SRR1463325.74\t0\tChr5\t21985986\t255\t48M\t*\t0\t0\tCCTTTGTAACACAGTAATAAGAGTTTCCACAATTCCATATCCTGCGAC\tFFIIIIIIIIIIIIFFFIIIIIIFIIIIIIIIIIIIIIIIIIIIIIII\tXA:i:0\tMD:Z:48\tNM:i:0\tXM:i:2\r\n",
      "SRR1463325.75\t0\tchloroplast\t72564\t255\t48M\t*\t0\t0\tTCATGACTCGTTTAGGAATAACCAATTCTTGGGGCGGTTGGAATATTA\tFFIIIIIIIIFIIIIIIIIIIIIIIIIFIIIIIIIIFBFBFBBBBBFB\tXA:i:0\tMD:Z:48\tNM:i:0\tXM:i:2\r\n"
     ]
    }
   ],
   "source": [
    "## Remove the header of a SAM file\n",
    "sed '/@/d' SAM_header.sam | head"
   ]
  },
  {
   "cell_type": "code",
   "execution_count": 137,
   "metadata": {
    "collapsed": false
   },
   "outputs": [
    {
     "name": "stdout",
     "output_type": "stream",
     "text": [
      "sed: 1: \"1~4p;2~4p\": invalid command code ~\r\n"
     ]
    }
   ],
   "source": [
    "sed -n '1~4p;2~4p' testQ32.fastq"
   ]
  },
  {
   "cell_type": "markdown",
   "metadata": {},
   "source": [
    "### Modify the matched pattern\n",
    "If you don't want to substitute the pattern but modify it the __`&`__ acts as a placeholder for the matched string:"
   ]
  },
  {
   "cell_type": "code",
   "execution_count": 141,
   "metadata": {
    "collapsed": false
   },
   "outputs": [
    {
     "name": "stdout",
     "output_type": "stream",
     "text": [
      "The Zen of Python, by Tim Peters\r\n",
      "\r\n",
      "Beautiful is betterer than ugly.\r\n",
      "Explicit is betterer than implicit.\r\n",
      "Simple is betterer than complex.\r\n",
      "Complex is betterer than complicated.\r\n",
      "Flat is betterer than nested.\r\n",
      "Sparse is betterer than dense.\r\n",
      "Readability counts.\r\n",
      "Special cases aren't special enough to break the rules.\r\n"
     ]
    }
   ],
   "source": [
    "sed 's/better/&er/' zen.txt | head"
   ]
  },
  {
   "cell_type": "code",
   "execution_count": 142,
   "metadata": {
    "collapsed": false
   },
   "outputs": [
    {
     "name": "stdout",
     "output_type": "stream",
     "text": [
      "The Zen of Python, by Tim Peters\r\n",
      "\r\n",
      "Beautiful isis better than ugly.\r\n",
      "Explicit isis better than implicit.\r\n",
      "Simple isis better than complex.\r\n",
      "Complex isis better than complicated.\r\n",
      "Flat isis better than nested.\r\n",
      "Sparse isis better than dense.\r\n",
      "Readability counts.\r\n",
      "Special cases aren't special enough to break the rules.\r\n"
     ]
    }
   ],
   "source": [
    "# Duplicate the pattern matched\n",
    "sed 's/is/&&/' zen.txt | head"
   ]
  },
  {
   "cell_type": "markdown",
   "metadata": {},
   "source": [
    "### Remembering part of the patterns.\n",
    "\n",
    "We can enclose parts of regular expressions ins parentheses to divide it into multiple patterns. The part of the pattern can be called with `\\1`\n",
    "\n",
    "\n",
    "The following regular expression matches a word:\n",
    "\n",
    "> `\\([a-zA-Z0-9]*\\).*`\n",
    "\n",
    "* `\\(` and `\\)` delimit the pattern.\n",
    "* `[`  `]` specify a range of characters.\n",
    "    * In this case any words having characters between `a-z` or `A-Z` or `0-9`.\n",
    "* \\.\\* To match the longest string possible until the next whitespace or break.\n",
    "\n",
    "The following regular expression matches a character:\n",
    "> `\\([a-zA-Z]\\)`\n",
    "\n",
    "\n",
    "Enclosing regular expressions between `\\(pattern)\\` can be recalled using `\\{Number}`. Up to 9 patterns can be '_remembered_':"
   ]
  },
  {
   "cell_type": "code",
   "execution_count": 219,
   "metadata": {
    "collapsed": false
   },
   "outputs": [
    {
     "name": "stdout",
     "output_type": "stream",
     "text": [
      "Peters The\r\n",
      "\r\n",
      "ugly Beautiful\r\n",
      "implicit Explicit\r\n",
      "complex Simple\r\n",
      "complicated Complex\r\n",
      "nested Flat\r\n",
      "dense Sparse\r\n",
      "counts Readability\r\n",
      "rules Special\r\n"
     ]
    }
   ],
   "source": [
    "# Get the first two words and swap them\n",
    "sed 's/\\([a-zA-Z0-9]*\\).* \\([a-zA-Z0-9]*\\).*/\\2 \\1/' zen.txt | head"
   ]
  },
  {
   "cell_type": "code",
   "execution_count": 220,
   "metadata": {
    "collapsed": false
   },
   "outputs": [
    {
     "name": "stdout",
     "output_type": "stream",
     "text": [
      "hTe Zen of Python, by Tim Peters\r\n",
      "\r\n",
      "eBautiful is better than ugly.\r\n",
      "xEplicit is better than implicit.\r\n",
      "iSmple is better than complex.\r\n",
      "oCmplex is better than complicated.\r\n",
      "lFat is better than nested.\r\n",
      "pSarse is better than dense.\r\n",
      "eRadability counts.\r\n",
      "pSecial cases aren't special enough to break the rules.\r\n"
     ]
    }
   ],
   "source": [
    "# Without * after the range and .* after the remembered pattern\n",
    "sed 's/\\([a-zA-Z0-9]\\)\\([a-zA-Z0-9]\\)/\\2\\1/' zen.txt | head"
   ]
  },
  {
   "cell_type": "code",
   "execution_count": 230,
   "metadata": {
    "collapsed": false
   },
   "outputs": [
    {
     "name": "stdout",
     "output_type": "stream",
     "text": [
      "Peters Tim The\r\n",
      "\r\n",
      "ugly than Beautiful\r\n",
      "implicit than Explicit\r\n",
      "complex than Simple\r\n",
      "complicated than Complex\r\n",
      "nested than Flat\r\n",
      "dense than Sparse\r\n",
      "Readability counts.\r\n",
      "rules the Special\r\n"
     ]
    }
   ],
   "source": [
    "## Spaces between the patterns are important to tell sed the word breaks \n",
    "sed 's/\\([a-zA-Z0-9]*\\).* \\([a-zA-Z0-9]*\\).* \\([a-zA-Z0-9]*\\).*/\\3 \\2 \\1/' zen.txt | head"
   ]
  },
  {
   "cell_type": "code",
   "execution_count": 231,
   "metadata": {
    "collapsed": false
   },
   "outputs": [
    {
     "name": "stdout",
     "output_type": "stream",
     "text": [
      "Peters  The\r\n",
      "\r\n",
      "ugly  Beautiful\r\n",
      "implicit  Explicit\r\n",
      "complex  Simple\r\n",
      "complicated  Complex\r\n",
      "nested  Flat\r\n",
      "dense  Sparse\r\n",
      "counts  Readability\r\n",
      "rules  Special\r\n"
     ]
    }
   ],
   "source": [
    "## No spaces between the first and second pattern:\n",
    "sed 's/\\([a-zA-Z0-9]*\\).*\\([a-zA-Z0-9]*\\).* \\([a-zA-Z0-9]*\\).*/\\3 \\2 \\1/' zen.txt | head"
   ]
  },
  {
   "cell_type": "code",
   "execution_count": 239,
   "metadata": {
    "collapsed": false
   },
   "outputs": [
    {
     "name": "stdout",
     "output_type": "stream",
     "text": [
      "of Zen The Python, by Tim Peters\r\n",
      "\r\n",
      "better is Beautiful than ugly.\r\n",
      "better is Explicit than implicit.\r\n",
      "better is Simple than complex.\r\n",
      "better is Complex than complicated.\r\n",
      "better is Flat than nested.\r\n",
      "better is Sparse than dense.\r\n",
      "Readability counts.\r\n",
      "aren cases Special't special enough to break the rules.\r\n"
     ]
    }
   ],
   "source": [
    "# Using extended regular expressions:\n",
    "sed -E 's/([a-zA-Z]+) ([a-zA-Z]+) ([a-zA-Z]+)/\\3 \\2 \\1/' zen.txt | head #For GNU (linux) use -r"
   ]
  },
  {
   "cell_type": "markdown",
   "metadata": {},
   "source": [
    "## Specifying occurrences\n",
    "\n"
   ]
  },
  {
   "cell_type": "code",
   "execution_count": 245,
   "metadata": {
    "collapsed": false
   },
   "outputs": [
    {
     "name": "stdout",
     "output_type": "stream",
     "text": [
      "(The) Zen of Python, by Tim Peters\r\n",
      "()\r\n",
      "(Beautiful) is better than ugly.\r\n",
      "(Explicit) is better than implicit.\r\n",
      "(Simple) is better than complex.\r\n",
      "(Complex) is better than complicated.\r\n",
      "(Flat) is better than nested.\r\n",
      "(Sparse) is better than dense.\r\n",
      "(Readability) counts.\r\n",
      "(Special) cases aren't special enough to break the rules.\r\n"
     ]
    }
   ],
   "source": [
    "# by default sed will match the first pattern on each line\n",
    "sed 's/[^ ]*/(&)/' zen.txt | head"
   ]
  },
  {
   "cell_type": "code",
   "execution_count": 244,
   "metadata": {
    "collapsed": false
   },
   "outputs": [
    {
     "name": "stdout",
     "output_type": "stream",
     "text": [
      "(The) (Zen) (of) (Python,) (by) (Tim) (Peters)\r\n",
      "\r\n",
      "(Beautiful) (is) (better) (than) (ugly.)\r\n",
      "(Explicit) (is) (better) (than) (implicit.)\r\n",
      "(Simple) (is) (better) (than) (complex.)\r\n",
      "(Complex) (is) (better) (than) (complicated.)\r\n",
      "(Flat) (is) (better) (than) (nested.)\r\n",
      "(Sparse) (is) (better) (than) (dense.)\r\n",
      "(Readability) (counts.)\r\n",
      "(Special) (cases) (aren't) (special) (enough) (to) (break) (the) (rules.)\r\n"
     ]
    }
   ],
   "source": [
    "# The g (global) flag specifies to match ALL the patterns\n",
    "sed 's/[^ ][^ ]*/(&)/g' zen.txt | head"
   ]
  },
  {
   "cell_type": "code",
   "execution_count": 261,
   "metadata": {
    "collapsed": false
   },
   "outputs": [
    {
     "name": "stdout",
     "output_type": "stream",
     "text": [
      "The \"SECOND\" of Python, by Tim Peters\r\n",
      "\r\n",
      "Beautiful \"SECOND\" better than ugly.\r\n",
      "Explicit \"SECOND\" better than implicit.\r\n",
      "Simple \"SECOND\" better than complex.\r\n",
      "Complex \"SECOND\" better than complicated.\r\n",
      "Flat \"SECOND\" better than nested.\r\n",
      "Sparse \"SECOND\" better than dense.\r\n",
      "Readability counts.\r\n",
      "Special \"SECOND\" aren't special enough to break the rules.\r\n"
     ]
    }
   ],
   "source": [
    "# We can specify the occurrence to affect using /{NUMBER}\n",
    "sed 's/[a-zA-Z]* /\"SECOND\" /2' zen.txt | head"
   ]
  },
  {
   "cell_type": "code",
   "execution_count": 253,
   "metadata": {
    "collapsed": false
   },
   "outputs": [
    {
     "name": "stdout",
     "output_type": "stream",
     "text": [
      "sed: 1: \"s/[a-zA-Z]* /DELETED /2g\": more than one number or 'g' in substitute flags\r\n"
     ]
    }
   ],
   "source": [
    "sed 's/[a-zA-Z]* /DELETED /2g' zen.txt"
   ]
  },
  {
   "cell_type": "markdown",
   "metadata": {},
   "source": [
    "### Write to file\n",
    "\n",
    "using the flag `/w` we can instruct sed to write a new file with the output of the search and match."
   ]
  },
  {
   "cell_type": "code",
   "execution_count": 264,
   "metadata": {
    "collapsed": false
   },
   "outputs": [
    {
     "name": "stdout",
     "output_type": "stream",
     "text": [
      "In the face of ambiguity, refuse the temptation to guess.\r\n",
      "If the implementation is hard to explain, it's a bad idea.\r\n",
      "If the implementation is easy to explain, it may be a good idea.\r\n"
     ]
    }
   ],
   "source": [
    "## Get lines whose first word starts with a vowel:\n",
    "sed -n 's/^[AEIOU]*[a-zA-Z] /&/p' zen.txt"
   ]
  },
  {
   "cell_type": "code",
   "execution_count": 270,
   "metadata": {
    "collapsed": false
   },
   "outputs": [
    {
     "name": "stdout",
     "output_type": "stream",
     "text": [
      "ls: vowel.txt: No such file or directory\r\n"
     ]
    }
   ],
   "source": [
    "# The file doesn:t exist \n",
    "ls vowel.txt"
   ]
  },
  {
   "cell_type": "code",
   "execution_count": 271,
   "metadata": {
    "collapsed": false
   },
   "outputs": [
    {
     "name": "stdout",
     "output_type": "stream",
     "text": []
    }
   ],
   "source": [
    "sed -n 's/^[AEIOUaeiou]*[a-zA-Z] /&/w vowel.txt' <zen.txt "
   ]
  },
  {
   "cell_type": "code",
   "execution_count": 272,
   "metadata": {
    "collapsed": false
   },
   "outputs": [
    {
     "name": "stdout",
     "output_type": "stream",
     "text": [
      "In the face of ambiguity, refuse the temptation to guess.\r\n",
      "If the implementation is hard to explain, it's a bad idea.\r\n",
      "If the implementation is easy to explain, it may be a good idea.\r\n"
     ]
    }
   ],
   "source": [
    "head vowel.txt"
   ]
  },
  {
   "cell_type": "markdown",
   "metadata": {},
   "source": [
    "### Case sensitive/insensitive\n",
    "\n",
    "SED will match __exactly__ what we tell it to search: `[a-z]` is different from `[A-Z]`; to have both we need `[a-zA-Z]`.\n",
    "\n",
    "Let's be lazy:\n",
    "\n",
    "use the I flag to make the search case insensitive."
   ]
  },
  {
   "cell_type": "code",
   "execution_count": 15,
   "metadata": {
    "collapsed": false
   },
   "outputs": [
    {
     "name": "stdout",
     "output_type": "stream",
     "text": [
      "sed:\r\n",
      "\r\n",
      "sed: 1: \"/^[aeiou]/I p\": invalid command code I\r\n",
      "\r\n",
      "---\r\n",
      "gnu-sed:\r\n",
      "\r\n",
      "Explicit is better than implicit.\r\n",
      "Although practicality beats purity.\r\n",
      "Errors should never pass silently.\r\n",
      "Unless explicitly silenced.\r\n",
      "In the face of ambiguity, refuse the temptation to guess.\r\n",
      "Although that way may not be obvious at first unless you're Dutch.\r\n",
      "Although never is often better than *right* now.\r\n",
      "If the implementation is hard to explain, it's a bad idea.\r\n",
      "If the implementation is easy to explain, it may be a good idea.\r\n"
     ]
    }
   ],
   "source": [
    "# Note, this won't work on OSX sed, use GNU-sed:\n",
    "echo -e \"sed:\\n\"\n",
    "sed -n '/^[aeiou]/I p' zen.txt\n",
    "echo -e \"\\n---\\ngnu-sed:\\n\"\n",
    "gsed -n '/^[aeiou]/I p' zen.txt"
   ]
  },
  {
   "cell_type": "markdown",
   "metadata": {},
   "source": [
    "### Combining flags\n",
    "\n",
    "We can combine different flags (when it makes sense):\n",
    "\n",
    "For example substitute only the second ocurrence of a word, print only matched lines and to file:\n"
   ]
  },
  {
   "cell_type": "code",
   "execution_count": 285,
   "metadata": {
    "collapsed": false
   },
   "outputs": [
    {
     "name": "stdout",
     "output_type": "stream",
     "text": [
      "MatchModifyPrint.txt\r\n",
      "--\r\n",
      "Beautiful is better thAn ugly.\r\n",
      "Complex is better than complicAted.\r\n",
      "Flat is better thAn nested.\r\n",
      "Sparse is better thAn dense.\r\n",
      "ReadAbility counts.\r\n",
      "Special cAses aren't special enough to break the rules.\r\n",
      "Although practicAlity beats purity.\r\n",
      "In the face of Ambiguity, refuse the temptation to guess.\r\n",
      "There should be one-- and preferAbly only one --obvious way to do it.\r\n",
      "Although that wAy may not be obvious at first unless you're Dutch.\r\n",
      "If the implementation is hArd to explain, it's a bad idea.\r\n",
      "If the implementation is eAsy to explain, it may be a good idea.\r\n",
      "NamespAces are one honking great idea -- let's do more of those!\r\n",
      "--\r\n",
      "MatchModifyPrint.txt\r\n"
     ]
    }
   ],
   "source": [
    "ls MatchModifyPrint.txt\n",
    "##\n",
    "echo \"--\"\n",
    "sed -n 's/a/A/2pw MatchModifyPrint.txt' zen.txt\n",
    "echo \"--\"\n",
    "##\n",
    "ls MatchModifyPrint.txt"
   ]
  },
  {
   "cell_type": "markdown",
   "metadata": {},
   "source": [
    "### Multiple arguments\n",
    "\n",
    "We can stitch multiple patterns with the `-e` (``--expression``) flag:"
   ]
  },
  {
   "cell_type": "code",
   "execution_count": 289,
   "metadata": {
    "collapsed": false
   },
   "outputs": [
    {
     "name": "stdout",
     "output_type": "stream",
     "text": [
      "The Zen of Python, Xy Tim Peters\r\n",
      "\r\n",
      "BeYutiful is Xetter than ugly.\r\n",
      "Explicit is Xetter thYn implicit.\r\n",
      "Simple is Xetter thYn complex.\r\n",
      "Complex is Xetter thYn complicated.\r\n",
      "FlYt is Xetter than nested.\r\n",
      "SpYrse is Xetter than dense.\r\n",
      "ReYdaXility counts.\r\n",
      "SpeciYl cases aren't special enough to Xreak the rules.\r\n",
      "Although prYcticality Xeats purity.\r\n",
      "Errors should never pYss silently.\r\n",
      "Unless explicitly silenced.\r\n",
      "In the fYce of amXiguity, refuse the temptation to guess.\r\n",
      "There should Xe one-- Ynd preferably only one --obvious way to do it.\r\n",
      "Although thYt way may not Xe obvious at first unless you're Dutch.\r\n",
      "Now is Xetter thYn never.\r\n",
      "Although never is often Xetter thYn *right* now.\r\n",
      "If the implementYtion is hard to explain, it's a Xad idea.\r\n",
      "If the implementYtion is easy to explain, it may Xe a good idea.\r\n",
      "NYmespaces are one honking great idea -- let's do more of those!\r\n"
     ]
    }
   ],
   "source": [
    "sed -e 's/a/Y/' -e 's/b/X/' zen.txt"
   ]
  },
  {
   "cell_type": "code",
   "execution_count": 288,
   "metadata": {
    "collapsed": false
   },
   "outputs": [
    {
     "name": "stdout",
     "output_type": "stream",
     "text": [
      "The Zen of Python, Xy Tim Peters\r\n",
      "\r\n",
      "BeYutiful is Xetter than ugly.\r\n",
      "Explicit is Xetter thYn implicit.\r\n",
      "Simple is Xetter thYn complex.\r\n",
      "Complex is Xetter thYn complicated.\r\n",
      "FlYt is Xetter than nested.\r\n",
      "SpYrse is Xetter than dense.\r\n",
      "ReYdaXility counts.\r\n",
      "SpeciYl cases aren't special enough to Xreak the rules.\r\n",
      "Although prYcticality Xeats purity.\r\n",
      "Errors should never pYss silently.\r\n",
      "Unless explicitly silenced.\r\n",
      "In the fYce of amXiguity, refuse the temptation to guess.\r\n",
      "There should Xe one-- Ynd preferably only one --obvious way to do it.\r\n",
      "Although thYt way may not Xe obvious at first unless you're Dutch.\r\n",
      "Now is Xetter thYn never.\r\n",
      "Although never is often Xetter thYn *right* now.\r\n",
      "If the implementYtion is hard to explain, it's a Xad idea.\r\n",
      "If the implementYtion is easy to explain, it may Xe a good idea.\r\n",
      "NYmespaces are one honking great idea -- let's do more of those!\r\n"
     ]
    }
   ],
   "source": [
    "## Or make it elegant separating arguments with semicolons (;)\n",
    "sed -e 's/a/Y/;s/b/X/' zen.txt"
   ]
  },
  {
   "cell_type": "code",
   "execution_count": 290,
   "metadata": {
    "collapsed": false
   },
   "outputs": [
    {
     "name": "stdout",
     "output_type": "stream",
     "text": [
      "The Zen of Python, Xy Tim Peters\r\n",
      "\r\n",
      "BeYutiful is Xetter than ugly.\r\n",
      "Explicit is Xetter thYn implicit.\r\n",
      "Simple is Xetter thYn complex.\r\n",
      "Complex is Xetter thYn complicated.\r\n",
      "FlYt is Xetter than nested.\r\n",
      "SpYrse is Xetter than dense.\r\n",
      "ReYdaXility counts.\r\n",
      "SpeciYl cases aren't special enough to Xreak the rules.\r\n",
      "Although prYcticality Xeats purity.\r\n",
      "Errors should never pYss silently.\r\n",
      "Unless explicitly silenced.\r\n",
      "In the fYce of amXiguity, refuse the temptation to guess.\r\n",
      "There should Xe one-- Ynd preferably only one --obvious way to do it.\r\n",
      "Although thYt way may not Xe obvious at first unless you're Dutch.\r\n",
      "Now is Xetter thYn never.\r\n",
      "Although never is often Xetter thYn *right* now.\r\n",
      "If the implementYtion is hard to explain, it's a Xad idea.\r\n",
      "If the implementYtion is easy to explain, it may Xe a good idea.\r\n",
      "NYmespaces are one honking great idea -- let's do more of those!\r\n",
      "The Zen of Python, Xy Tim Peters\r\n",
      "\r\n",
      "BeYutiful is Xetter than ugly.\r\n",
      "Explicit is Xetter thYn implicit.\r\n",
      "Simple is Xetter thYn complex.\r\n",
      "Complex is Xetter thYn complicated.\r\n",
      "FlYt is Xetter than nested.\r\n",
      "SpYrse is Xetter than dense.\r\n",
      "ReYdaXility counts.\r\n",
      "SpeciYl cases aren't special enough to Xreak the rules.\r\n",
      "Although prYcticality Xeats purity.\r\n",
      "Errors should never pYss silently.\r\n",
      "Unless explicitly silenced.\r\n",
      "In the fYce of amXiguity, refuse the temptation to guess.\r\n",
      "There should Xe one-- Ynd preferably only one --obvious way to do it.\r\n",
      "Although thYt way may not Xe obvious at first unless you're Dutch.\r\n",
      "Now is Xetter thYn never.\r\n",
      "Although never is often Xetter thYn *right* now.\r\n",
      "If the implementYtion is hard to explain, it's a Xad idea.\r\n",
      "If the implementYtion is easy to explain, it may Xe a good idea.\r\n",
      "NYmespaces are one honking great idea -- let's do more of those!\r\n"
     ]
    }
   ],
   "source": [
    "# We can input multiple files at the same time\n",
    "sed -e 's/a/Y/;s/b/X/' zen.txt copyZen.txt"
   ]
  },
  {
   "cell_type": "markdown",
   "metadata": {},
   "source": [
    "### Ranges \n",
    "\n",
    "So far we've only seen how to match and substitute on a line-by-line basis. `sed` can also perform more complicated operations based on context, lile:\n",
    "\n",
    "* Action by row index (line number).\n",
    "* Action between row indices (range of lines).\n",
    "* Lines matching a regular expression/pattern.\n",
    "* Lines __up to__ a regular expression/pattern (ie from the start of file until the match).\n",
    "* Lines __from__ a regular expression/pattern (ie from the match until the end of file).\n",
    "* Lines between two matching patterns (a block of lines delimited by a regular expression).\n"
   ]
  },
  {
   "cell_type": "code",
   "execution_count": 333,
   "metadata": {
    "collapsed": false
   },
   "outputs": [
    {
     "name": "stdout",
     "output_type": "stream",
     "text": [
      "The Zen of Python, by Tim Peters\r\n",
      "\r\n",
      "eautiful is better than ugly.\r\n",
      "Explicit is better than implicit.\r\n",
      "Simple is better than complex.\r\n"
     ]
    }
   ],
   "source": [
    "## Delete the character word on line 3\n",
    "sed '3 s/[A-Za-z0-9]//' zen.txt | head -n 5"
   ]
  },
  {
   "cell_type": "code",
   "execution_count": 334,
   "metadata": {
    "collapsed": false
   },
   "outputs": [
    {
     "name": "stdout",
     "output_type": "stream",
     "text": [
      "The Zen of Python, by Tim Peters\r\n",
      "\r\n",
      "is better than ugly.\r\n",
      "Explicit is better than implicit.\r\n",
      "Simple is better than complex.\r\n"
     ]
    }
   ],
   "source": [
    "## Delete the first word on line 3\n",
    "sed '3 s/[A-Za-z0-9]* //' zen.txt | head -n 5"
   ]
  },
  {
   "cell_type": "code",
   "execution_count": 346,
   "metadata": {
    "collapsed": false
   },
   "outputs": [
    {
     "name": "stdout",
     "output_type": "stream",
     "text": [
      "(Explicit) is better than implicit.\r\n",
      "(Although) practicality beats purity.\r\n",
      "(Errors) should never pass silently.\r\n",
      "(Unless) explicitly silenced.\r\n",
      "(In) the face of ambiguity, refuse the temptation to guess.\r\n",
      "(Although) that way may not be obvious at first unless you're Dutch.\r\n",
      "(Although) never is often better than *right* now.\r\n",
      "(If) the implementation is hard to explain, it's a bad idea.\r\n",
      "(If) the implementation is easy to explain, it may be a good idea.\r\n"
     ]
    }
   ],
   "source": [
    "## We can specify a regular expression to select lines that only match to that pattern then substitute\n",
    "# The regular expression must be written between delimiters (in this case /regex/)\n",
    "sed -n '/^[AEIOU]/ s/[A-Za-z0-9]*/(&)/p' zen.txt\n",
    "\n",
    "# In principle the spaces aren't necessary but help to make the command more readable"
   ]
  },
  {
   "cell_type": "code",
   "execution_count": null,
   "metadata": {
    "collapsed": true
   },
   "outputs": [],
   "source": [
    "# Same output as above.\n",
    "sed -n '/^[AEIOU]/s/[A-Za-z0-9]*/(&)/p' zen.txt"
   ]
  },
  {
   "cell_type": "code",
   "execution_count": 384,
   "metadata": {
    "collapsed": false
   },
   "outputs": [
    {
     "name": "stdout",
     "output_type": "stream",
     "text": [
      "(T)he Zen of Python, by Tim Peters\r\n",
      "(B)eautiful is better than ugly.\r\n",
      "(E)xplicit is better than implicit.\r\n",
      "(S)imple is better than complex.\r\n",
      "(C)omplex is better than complicated.\r\n",
      "(F)lat is better than nested.\r\n"
     ]
    }
   ],
   "source": [
    "# noprint; from line 1 until it matches the pattern; substitute/[anything between A-Z capital]/add parentheses/print \n",
    "sed -n '1,/Flat/ s/^[A-Z]/(&)/p' zen.txt"
   ]
  },
  {
   "cell_type": "code",
   "execution_count": 436,
   "metadata": {
    "collapsed": false
   },
   "outputs": [
    {
     "name": "stdout",
     "output_type": "stream",
     "text": [
      "(T)he Zen of Python, by Tim Peters\r\n",
      "(B)eautiful is better than ugly.\r\n",
      "(E)xplicit is better than implicit.\r\n",
      "(S)imple is better than complex.\r\n",
      "(C)omplex is better than complicated.\r\n",
      "(F)lat is better than nested.\r\n"
     ]
    }
   ],
   "source": [
    "sed -n '1,/Flat/ s/^[A-Z]/(&)/p' zen.txt"
   ]
  },
  {
   "cell_type": "markdown",
   "metadata": {},
   "source": [
    "### Range of patterns\n",
    "\n",
    "We can specify a range of patterns to perform an action."
   ]
  },
  {
   "cell_type": "code",
   "execution_count": 617,
   "metadata": {
    "collapsed": false
   },
   "outputs": [
    {
     "name": "stdout",
     "output_type": "stream",
     "text": [
      "()\r\n",
      "(Beautiful) is better than ugly.\r\n",
      "(Explicit) is better than implicit.\r\n",
      "(Simple) is better than complex.\r\n",
      "(Complex) is better than complicated.\r\n",
      "(Flat) is better than nested.\r\n",
      "(Sparse) is better than dense.\r\n",
      "(Readability) counts.\r\n",
      "(Special) cases aren't special enough to break the rules.\r\n"
     ]
    }
   ],
   "source": [
    "# Between the first empty line to the first ocurrence where there is an \"n.t\" pattern\n",
    "sed -n '/^$/,/n.t/ s/[A-Za-z0-9]*/(&)/p' zen.txt"
   ]
  },
  {
   "cell_type": "code",
   "execution_count": 615,
   "metadata": {
    "collapsed": false
   },
   "outputs": [
    {
     "name": "stdout",
     "output_type": "stream",
     "text": [
      "The Zen of Python, by Tim Peters\r\n",
      "\r\n",
      "(B)(e)(a)(u)(t)(i)(f)(u)(l) (i)(s) (b)(e)(t)(t)(e)(r) (t)(h)(a)(n) (u)(g)(l)(y).\r\n",
      "(E)(x)(p)(l)(i)(c)(i)(t) (i)(s) (b)(e)(t)(t)(e)(r) (t)(h)(a)(n) (i)(m)(p)(l)(i)(c)(i)(t).\r\n",
      "Simple is better than complex.\r\n",
      "Complex is better than complicated.\r\n",
      "Flat is better than nested.\r\n",
      "Sparse is better than dense.\r\n",
      "Readability counts.\r\n",
      "Special cases aren't special enough to break the rules.\r\n",
      "Although practicality beats purity.\r\n",
      "Errors should never pass silently.\r\n",
      "Unless explicitly silenced.\r\n",
      "In the face of ambiguity, refuse the temptation to guess.\r\n",
      "There should be one-- and preferably only one --obvious way to do it.\r\n",
      "Although that way may not be obvious at first unless you're Dutch.\r\n",
      "Now is better than never.\r\n",
      "Although never is often better than *right* now.\r\n",
      "If the implementation is hard to explain, it's a bad idea.\r\n",
      "If the implementation is easy to explain, it may be a good idea.\r\n",
      "Namespaces are one honking great idea -- let's do more of those!\r\n"
     ]
    }
   ],
   "source": [
    "## Modify things between the patterns (except the patterns)\n",
    "sed '/Zen/,/Simple/ {/Zen/n; /Simple/ !{s/[A-Za-z]/(&)/g;};};' zen.txt"
   ]
  },
  {
   "cell_type": "markdown",
   "metadata": {},
   "source": [
    "## append or change an entire line.\n"
   ]
  },
  {
   "cell_type": "code",
   "execution_count": 43,
   "metadata": {
    "collapsed": false
   },
   "outputs": [
    {
     "name": "stdout",
     "output_type": "stream",
     "text": [
      "The Zen of Python, by Tim Peters\r\n",
      "\r\n",
      "Beautiful is better than ugly.\r\n",
      "----This is a new line AFTER the matching pattern\r\n",
      "Explicit is better than implicit.\r\n",
      "----This is a new line AFTER the matching pattern\r\n",
      "Simple is better than complex.\r\n",
      "----This is a new line AFTER the matching pattern\r\n",
      "Complex is better than complicated.\r\n",
      "----This is a new line AFTER the matching pattern\r\n"
     ]
    }
   ],
   "source": [
    "gsed '/is/ a\\----This is a new line AFTER the matching pattern' zen.txt | head"
   ]
  },
  {
   "cell_type": "code",
   "execution_count": 42,
   "metadata": {
    "collapsed": false
   },
   "outputs": [
    {
     "name": "stdout",
     "output_type": "stream",
     "text": [
      "The Zen of Python, by Tim Peters\r\n",
      "\r\n",
      "----This is a new line BEFORE the matching pattern\r\n",
      "Beautiful is better than ugly.\r\n",
      "----This is a new line BEFORE the matching pattern\r\n",
      "Explicit is better than implicit.\r\n",
      "----This is a new line BEFORE the matching pattern\r\n",
      "Simple is better than complex.\r\n",
      "----This is a new line BEFORE the matching pattern\r\n",
      "Complex is better than complicated.\r\n"
     ]
    }
   ],
   "source": [
    "gsed '/is/ i\\----This is a new line BEFORE the matching pattern' zen.txt | head"
   ]
  },
  {
   "cell_type": "code",
   "execution_count": 49,
   "metadata": {
    "collapsed": false
   },
   "outputs": [
    {
     "name": "stdout",
     "output_type": "stream",
     "text": [
      "The Zen of Python, by Tim Peters\r\n",
      "\r\n",
      "Beautiful is better than ugly.\r\n",
      "----This modifies the entire line with a matching pattern\r\n",
      "Simple is better than complex.\r\n",
      "Complex is better than complicated.\r\n",
      "Flat is better than nested.\r\n",
      "Sparse is better than dense.\r\n",
      "Readability counts.\r\n",
      "Special cases aren't special enough to break the rules.\r\n"
     ]
    }
   ],
   "source": [
    "gsed '/^[AEIOU].*/ c\\----This modifies the entire line with a matching pattern' zen.txt | head"
   ]
  },
  {
   "cell_type": "code",
   "execution_count": 58,
   "metadata": {
    "collapsed": false
   },
   "outputs": [
    {
     "name": "stdout",
     "output_type": "stream",
     "text": [
      "The Zen of Python, by Tim Peters\r\n",
      "\r\n",
      "Beautiful is better than ugly.\r\n",
      "\tThis modifies the \t entire line with \t a matching pattern\r\n",
      "Simple is better than complex.\r\n",
      "Complex is better than complicated.\r\n",
      "Flat is better than nested.\r\n",
      "Sparse is better than dense.\r\n",
      "Readability counts.\r\n",
      "Special cases aren't special enough to break the rules.\r\n"
     ]
    }
   ],
   "source": [
    "## By default sed ignores tabs and whitespaces added except when they're under the control of c,i and a:\n",
    "gsed '/^[AEIOU].*/ c\\\\tThis modifies the \\t entire line with \\t a matching pattern' zen.txt | head"
   ]
  },
  {
   "cell_type": "code",
   "execution_count": 66,
   "metadata": {
    "collapsed": false
   },
   "outputs": [
    {
     "name": "stdout",
     "output_type": "stream",
     "text": [
      "(tThe Zen of Python, by Tim Peters)\r\n",
      "\r\n",
      "(tBeautiful is better than ugly.)\r\n",
      "Explicit is better than implicit.\r\n",
      "(tSimple is better than complex.)\r\n",
      "(tComplex is better than complicated.)\r\n",
      "(tFlat is better than nested.)\r\n",
      "(tSparse is better than dense.)\r\n"
     ]
    }
   ],
   "source": [
    "# OSX sed works differently:\n",
    "sed -e 's/^[^(AEIOU)].*/(\\t&)/' zen.txt | head -n 8"
   ]
  },
  {
   "cell_type": "code",
   "execution_count": 71,
   "metadata": {
    "collapsed": false
   },
   "outputs": [
    {
     "name": "stdout",
     "output_type": "stream",
     "text": [
      "(\tThe Zen of Python, by Tim Peters)\r\n",
      "\r\n",
      "(\tBeautiful is better than ugly.)\r\n",
      "Explicit is better than implicit.\r\n",
      "(\tSimple is better than complex.)\r\n",
      "(\tComplex is better than complicated.)\r\n",
      "(\tFlat is better than nested.)\r\n",
      "(\tSparse is better than dense.)\r\n"
     ]
    }
   ],
   "source": [
    "#  Modify lines that don't contain vowels. Add a tab\n",
    "gsed -e 's/^[^(AEIOU)].*/(\\t&)/' zen.txt | head -n 8"
   ]
  },
  {
   "cell_type": "code",
   "execution_count": 86,
   "metadata": {
    "collapsed": false
   },
   "outputs": [
    {
     "name": "stdout",
     "output_type": "stream",
     "text": [
      "The Zen of Python, by Tim Peters\r\n",
      "\r\n",
      "Beautiful is better than ugly.\r\n",
      "----This is a new line BEFORE the matching pattern \r\n",
      "\t newline and tab ccccombo!\r\n",
      "Explicit is better than implicit.\r\n",
      "Simple is better than complex.\r\n",
      "Complex is better than complicated.\r\n",
      "Flat is better than nested.\r\n",
      "Sparse is better than dense.\r\n"
     ]
    }
   ],
   "source": [
    "## Add more than one line: use newline character \\n\n",
    "gsed '/Explicit/ i\\----This is a new line BEFORE the matching pattern \\n\\t newline and tab ccccombo!' zen.txt | head"
   ]
  },
  {
   "cell_type": "code",
   "execution_count": 1,
   "metadata": {
    "collapsed": false
   },
   "outputs": [
    {
     "name": "stdout",
     "output_type": "stream",
     "text": [
      "The Zen of Python, by Tim Peters\r\n",
      "**Line added**\r\n",
      "\r\n",
      "**Line added**\r\n",
      "Beautiful is better than ugly.\r\n",
      "**Line added**\r\n",
      "Explicit is better than implicit.\r\n",
      "**Line added**\r\n",
      "Simple is better than complex.\r\n",
      "Complex is better than complicated.\r\n"
     ]
    }
   ],
   "source": [
    "## Combine with ranges:\n",
    "gsed '/Zen/,/Explicit/ a\\**Line added after**' zen.txt | head\n"
   ]
  },
  {
   "cell_type": "code",
   "execution_count": 3,
   "metadata": {
    "collapsed": false
   },
   "outputs": [
    {
     "name": "stdout",
     "output_type": "stream",
     "text": [
      "**Line added before**\r\n",
      "The Zen of Python, by Tim Peters\r\n",
      "**Line added before**\r\n",
      "\r\n",
      "**Line added before**\r\n",
      "Beautiful is better than ugly.\r\n",
      "**Line added before**\r\n",
      "Explicit is better than implicit.\r\n",
      "Simple is better than complex.\r\n",
      "Complex is better than complicated.\r\n"
     ]
    }
   ],
   "source": [
    "gsed '/Zen/,/Explicit/ i\\**Line added before**' zen.txt | head"
   ]
  },
  {
   "cell_type": "code",
   "execution_count": 120,
   "metadata": {
    "collapsed": false
   },
   "outputs": [
    {
     "name": "stdout",
     "output_type": "stream",
     "text": [
      "**CENSORED**\r\n",
      "Simple is better than complex.\r\n",
      "Complex is better than complicated.\r\n",
      "Flat is better than nested.\r\n",
      "Sparse is better than dense.\r\n",
      "Readability counts.\r\n",
      "Special cases aren't special enough to break the rules.\r\n",
      "Although practicality beats purity.\r\n",
      "Errors should never pass silently.\r\n",
      "Unless explicitly silenced.\r\n"
     ]
    }
   ],
   "source": [
    "## The c (change) will change the whole block into one:\n",
    "gsed '/Zen/,/Explicit/ c\\**CENSORED**' zen.txt | head"
   ]
  },
  {
   "cell_type": "code",
   "execution_count": 4,
   "metadata": {
    "collapsed": false
   },
   "outputs": [
    {
     "name": "stdout",
     "output_type": "stream",
     "text": [
      "The Zen of Python, by Tim Peters\r\n",
      "\r\n",
      "Beautiful is better than ugly.\r\n",
      "Explicit is better than implicit.\r\n",
      "**CENSORED**\r\n",
      "**CENSORED**\r\n",
      "**CENSORED**\r\n",
      "**CENSORED**\r\n",
      "**CENSORED**\r\n",
      "**CENSORED**\r\n"
     ]
    }
   ],
   "source": [
    "# We can negate the action pattern to change everything outside the range:\n",
    "gsed '/Zen/,/Explicit/ !c\\**CENSORED**' zen.txt | head"
   ]
  },
  {
   "cell_type": "markdown",
   "metadata": {},
   "source": [
    "### Line Number\n",
    "\n",
    "The `=` operator print the line number to the standard output. This means that we can't print both the line and the number at the same time :( ."
   ]
  },
  {
   "cell_type": "code",
   "execution_count": 5,
   "metadata": {
    "collapsed": false
   },
   "outputs": [
    {
     "name": "stdout",
     "output_type": "stream",
     "text": [
      "4\r\n",
      "11\r\n",
      "12\r\n",
      "13\r\n",
      "14\r\n",
      "16\r\n",
      "18\r\n",
      "19\r\n",
      "20\r\n"
     ]
    }
   ],
   "source": [
    "gsed -n '/[AEIOU]/ =' zen.txt | head"
   ]
  },
  {
   "cell_type": "code",
   "execution_count": 27,
   "metadata": {
    "collapsed": false
   },
   "outputs": [
    {
     "name": "stdout",
     "output_type": "stream",
     "text": [
      "(T)he Zen of Python, by Tim Peters\r\n",
      "1\r\n",
      "2\r\n",
      "(B)eautiful is better than ugly.\r\n",
      "3\r\n",
      "(E)xplicit is better than implicit.\r\n",
      "4\r\n",
      "5\r\n",
      "6\r\n",
      "7\r\n"
     ]
    }
   ],
   "source": [
    "# We can't mix the = with results from a pattern matching\n",
    "gsed -n '/Zen/,/Explicit/ s/^./(&)/p ; =' zen.txt | head"
   ]
  },
  {
   "cell_type": "markdown",
   "metadata": {},
   "source": [
    "...or can we?"
   ]
  },
  {
   "cell_type": "code",
   "execution_count": 1,
   "metadata": {
    "collapsed": false
   },
   "outputs": [
    {
     "name": "stdout",
     "output_type": "stream",
     "text": [
      "1 Consult Section 3.1 in the Owner and Operator Guide\r\n",
      "2 Consult Section 3.1 in the Owner and Operator Guide\r\n",
      "3 for a description of the tape drives\r\n",
      "4 available on your system.\r\n"
     ]
    }
   ],
   "source": [
    "## If we pipe the output of the line number to the stdout and combine it with N (next line) while removing the /n between the two:\n",
    "sed '=' text.txt | \\\n",
    "sed '{\n",
    "\tN\n",
    "\ts/\\n/ /\n",
    "}'"
   ]
  },
  {
   "cell_type": "markdown",
   "metadata": {},
   "source": [
    "#### Transform upper/lower case"
   ]
  },
  {
   "cell_type": "code",
   "execution_count": 151,
   "metadata": {
    "collapsed": false
   },
   "outputs": [
    {
     "name": "stdout",
     "output_type": "stream",
     "text": [
      "ThE ZEn oF Python, By Tim PEtErs\r\n",
      "\r\n",
      "BEAutiFul is BEttEr thAn ugly.\r\n",
      "ExpliCit is BEttEr thAn impliCit.\r\n",
      "SimplE is BEttEr thAn ComplEx.\r\n",
      "ComplEx is BEttEr thAn CompliCAtED.\r\n",
      "FlAt is BEttEr thAn nEstED.\r\n",
      "SpArsE is BEttEr thAn DEnsE.\r\n",
      "READABility Counts.\r\n",
      "SpECiAl CAsEs ArEn't spECiAl Enough to BrEAk thE rulEs.\r\n"
     ]
    }
   ],
   "source": [
    "gsed 'y/abcdef/ABCDEF/' zen.txt | head"
   ]
  },
  {
   "cell_type": "code",
   "execution_count": 157,
   "metadata": {
    "collapsed": false
   },
   "outputs": [
    {
     "name": "stdout",
     "output_type": "stream",
     "text": [
      "The Zen of Python, by Tim Peters\r\n",
      "\r\n",
      "BEAutiFul is BEttEr thAn ugly.\r\n",
      "Explicit is better than implicit.\r\n"
     ]
    }
   ],
   "source": [
    "# On a single line\n",
    "gsed '3 y/abcdef/ABCDEF/' zen.txt | head -4"
   ]
  },
  {
   "cell_type": "code",
   "execution_count": 155,
   "metadata": {
    "collapsed": false
   },
   "outputs": [
    {
     "name": "stdout",
     "output_type": "stream",
     "text": [
      "The Zen of Python, by Tim Peters\r\n",
      "\r\n",
      "BEAutiFul is BEttEr thAn ugly.\r\n",
      "Explicit is better than implicit.\r\n"
     ]
    }
   ],
   "source": [
    "# On a single pattern\n",
    "gsed '/Beautiful/ y/abcdef/ABCDEF/' zen.txt | head -4"
   ]
  },
  {
   "cell_type": "code",
   "execution_count": 153,
   "metadata": {
    "collapsed": false
   },
   "outputs": [
    {
     "name": "stdout",
     "output_type": "stream",
     "text": [
      "The Zen of Python, by Tim Peters\r\n",
      "\r\n",
      "Beautiful is better than ugly.\r\n",
      "Explicit is better than implicit.\r\n",
      "Simple is better than complex.\r\n",
      "Complex is better than complicated.\r\n",
      "Flat is better than nested.\r\n",
      "Sparse is better than dense.\r\n",
      "Readability counts.\r\n",
      "Special cases aren't special enough to break the rules.\r\n"
     ]
    }
   ],
   "source": [
    "# Within a range of patterns\n",
    "gsed '/BeautiFul/,/Explicit/ y/abcdef/ABCDEF/' zen.txt | head"
   ]
  },
  {
   "cell_type": "markdown",
   "metadata": {},
   "source": [
    "## Multiple Lines\n",
    "\n",
    "https://stackoverflow.com/questions/25946273/sed-next-next-command"
   ]
  },
  {
   "cell_type": "code",
   "execution_count": 252,
   "metadata": {
    "collapsed": false
   },
   "outputs": [
    {
     "name": "stdout",
     "output_type": "stream",
     "text": [
      "Consult Section 3.1 in the Owner and Operator Guide\r\n",
      "Consult Section 3.1 in the Owner and Operator Guide\r\n",
      "for a description of the tape drives\r\n",
      "available on your system.\r\n"
     ]
    }
   ],
   "source": [
    "head text.txt"
   ]
  },
  {
   "cell_type": "code",
   "execution_count": 250,
   "metadata": {
    "collapsed": false
   },
   "outputs": [
    {
     "name": "stdout",
     "output_type": "stream",
     "text": [
      "Consult Section 3.1 in the Owner and Operator Guide\r\n",
      "Consult Section 3.1 in the Installation Guide\r\n",
      "for a description of the tape drives\r\n",
      "available on your system.\r\n"
     ]
    }
   ],
   "source": [
    "sed '/Operator/{\n",
    " n\n",
    " s/Owner and Operator Guide/Installation Guide/\n",
    " }' text.txt\n"
   ]
  },
  {
   "cell_type": "code",
   "execution_count": 251,
   "metadata": {
    "collapsed": false
   },
   "outputs": [
    {
     "name": "stdout",
     "output_type": "stream",
     "text": [
      "Consult Section 3.1 in the Installation Guide\r\n",
      "Consult Section 3.1 in the Owner and Operator Guide\r\n",
      "for a description of the tape drives\r\n",
      "available on your system.\r\n"
     ]
    }
   ],
   "source": [
    "sed '/Operator/{\n",
    " N\n",
    " s/Owner and Operator Guide/Installation Guide/\n",
    " }' text.txt\n"
   ]
  },
  {
   "cell_type": "code",
   "execution_count": 268,
   "metadata": {
    "collapsed": false
   },
   "outputs": [
    {
     "name": "stdout",
     "output_type": "stream",
     "text": [
      "The Zen of Python, by Tim Peters\r\n",
      "\r\n",
      "Beautiful is better than ugly.\r\n",
      "Explicit is better than implicit. -Pasted- Simple is better than complex.\r\n",
      "Complex is better than complicated.\r\n",
      "Flat is better than nested.\r\n",
      "Sparse is better than dense.\r\n",
      "Readability counts.\r\n",
      "Special cases aren't special enough to break the rules.\r\n",
      "Although practicality beats purity.\r\n"
     ]
    }
   ],
   "source": [
    "## Match a pattern. Read the N(ext) line, modify current line and do something to it.\n",
    "gsed '\n",
    "/Explicit/ {\n",
    "\tN\n",
    "\ts/\\n/ -Pasted- /\n",
    "}' zen.txt | head "
   ]
  },
  {
   "cell_type": "code",
   "execution_count": 324,
   "metadata": {
    "collapsed": false
   },
   "outputs": [
    {
     "name": "stdout",
     "output_type": "stream",
     "text": [
      "Beautiful is better than ugly.\r\n",
      "Explicit is better than implicit.\r\n"
     ]
    }
   ],
   "source": [
    "## Look for two consecutive lines having matching two patterns (one each):\n",
    "sed -n '\n",
    "/Beautiful/ {\n",
    "# found \"ONE\" - read in next line\n",
    "\tN\n",
    "# look for \"TWO\" on the second line\n",
    "# and print if there.\n",
    "\t/\\n.*implicit/ p\n",
    "}' zen.txt"
   ]
  },
  {
   "cell_type": "code",
   "execution_count": 284,
   "metadata": {
    "collapsed": false
   },
   "outputs": [
    {
     "name": "stdout",
     "output_type": "stream",
     "text": [
      "The Zen of Python, by Tim Peters\r\n",
      "\r\n",
      "One Two.\r\n",
      "Simple is better than complex.\r\n",
      "Complex is better than complicated.\r\n",
      "Flat is better than nested.\r\n",
      "Sparse is better than dense.\r\n",
      "Readability counts.\r\n",
      "Special cases aren't special enough to break the rules.\r\n",
      "Although practicality beats purity.\r\n"
     ]
    }
   ],
   "source": [
    "## Look for two consecutive lines having matching two patterns (one each):\n",
    "# If found, delete everything between them\n",
    "gsed '\n",
    "/Beautiful/ {\n",
    "\tN\n",
    "\t/\\n.*implicit/ {s/Beautiful.*\\n.*implicit/One Two/}\n",
    "}' zen.txt | head"
   ]
  },
  {
   "cell_type": "code",
   "execution_count": 313,
   "metadata": {
    "collapsed": false
   },
   "outputs": [
    {
     "name": "stdout",
     "output_type": "stream",
     "text": [
      "The Zen of Python, by Tim Peters\r\n",
      "\r\n",
      "\r\n",
      "Complex is better than complicated.\r\n",
      "Flat is better than nested.\r\n",
      "Sparse is better than dense.\r\n",
      "Readability counts.\r\n",
      "Special cases aren't special enough to break the rules.\r\n",
      "Although practicality beats purity.\r\n",
      "Errors should never pass silently.\r\n",
      "\r\n",
      "--\r\n",
      "\r\n",
      "The Zen of Python, by Tim Peters\r\n",
      "\r\n",
      "Beautiful is better than ugly.\r\n",
      "Explicit is better than implicit.\r\n",
      "Simple is better than complex.\r\n",
      "Complex is better than complicated.\r\n",
      "Flat is better than nested.\r\n",
      "Sparse is better than dense.\r\n",
      "Readability counts.\r\n",
      "Special cases aren't special enough to break the rules.\r\n"
     ]
    }
   ],
   "source": [
    "## Look for a match, delete it along with next 2 lines:\n",
    "gsed '\n",
    "/Beautiful/ {\n",
    "\tN\n",
    "    N\n",
    "    # As much Ns as deleted lines wanted\n",
    "\ts/^.*\\n.*// \n",
    "}' zen.txt | head\n",
    "echo -e \"\\n--\\n\"\n",
    "head zen.txt"
   ]
  },
  {
   "cell_type": "code",
   "execution_count": 338,
   "metadata": {
    "collapsed": false
   },
   "outputs": [
    {
     "name": "stdout",
     "output_type": "stream",
     "text": [
      "Consult Section 3.1 in the Owner and Operator Guide\r\n",
      "Consult Section 3.1 in the Owner and Operator Guide\r\n",
      "for a description of the tape drives available on your system.\r\n",
      "\r\n",
      "- Original: -\r\n",
      "\r\n",
      "Consult Section 3.1 in the Owner and Operator Guide\r\n",
      "Consult Section 3.1 in the Owner and Operator Guide\r\n",
      "for a description of the tape drives\r\n",
      "available on your system.\r\n"
     ]
    }
   ],
   "source": [
    "## Look for a pattern that spans the end of one line and the start of the next one. If found, remove the next line (\\n)\n",
    "# and concatenate both lines together.\n",
    "gsed '\n",
    "/drives/ {\n",
    "# append a line\n",
    "\tN\n",
    "\ts/drives available/available/\n",
    "\ts/\\n/ /\n",
    "}' text.txt\n",
    "echo -e \"\\n- Original: -\\n\"\n",
    "cat text.txt"
   ]
  },
  {
   "cell_type": "code",
   "execution_count": 31,
   "metadata": {
    "collapsed": false
   },
   "outputs": [
    {
     "name": "stdout",
     "output_type": "stream",
     "text": [
      "Consult Section 3.1 in the Owner and Operator Guide\r\n",
      "Consult Section 3.1 in the Owner and Operator Guide\r\n",
      "available on your system.\r\n",
      "\r\n",
      "- Original: -\r\n",
      "\r\n",
      "Consult Section 3.1 in the Owner and Operator Guide\r\n",
      "Consult Section 3.1 in the Owner and Operator Guide\r\n",
      "for a description of the tape drives\r\n",
      "available on your system.\r\n"
     ]
    }
   ],
   "source": [
    "### Look for a pattern that spans two lines. If found, delete first line.\n",
    "gsed '\n",
    "/drives/ {\n",
    "# append a line\n",
    "\tN\n",
    "# if TWO found, delete the first line\n",
    "\t/\\n.*available/ D\n",
    "}' text.txt\n",
    "echo -e \"\\n- Original: -\\n\"\n",
    "cat text.txt"
   ]
  },
  {
   "cell_type": "code",
   "execution_count": 33,
   "metadata": {
    "collapsed": false
   },
   "outputs": [
    {
     "name": "stdout",
     "output_type": "stream",
     "text": [
      "for a description of the tape drives\r\n",
      "\r\n",
      "- Original: -\r\n",
      "\r\n",
      "Consult Section 3.1 in the Owner and Operator Guide\r\n",
      "Consult Section 3.1 in the Owner and Operator Guide\r\n",
      "for a description of the tape drives\r\n",
      "available on your system.\r\n"
     ]
    }
   ],
   "source": [
    "### Look for a pattern that spans two lines. If found, Print first line only.\n",
    "gsed -n '\n",
    "# if first pattern\n",
    "/drives/ {\n",
    "# append a line\n",
    "\tN\n",
    "# if second pattern found, print the first line\n",
    "\t/\\n.*available/ P\n",
    "}' text.txt\n",
    "echo -e \"\\n- Original: -\\n\"\n",
    "cat text.txt"
   ]
  },
  {
   "cell_type": "code",
   "execution_count": 38,
   "metadata": {
    "collapsed": false
   },
   "outputs": [
    {
     "name": "stdout",
     "output_type": "stream",
     "text": [
      "for a description of the tape drives\r\n",
      "\r\n",
      "- Original: -\r\n",
      "\r\n",
      "Consult Section 3.1 in the Owner and Operator Guide\r\n",
      "Consult Section 3.1 in the Owner and Operator Guide\r\n",
      "for a description of the tape drives\r\n",
      "available on your system.\r\n"
     ]
    }
   ],
   "source": [
    "### Look for a pattern that spans two lines. If found, Print first line only.\n",
    "gsed -n '\n",
    "/drives/ { # if first pattern\n",
    "\tN # append a line\n",
    "\t/\\n.*available/ P # if second pattern found, print the first line\n",
    "}' text.txt\n",
    "echo -e \"\\n- Original: -\\n\"\n",
    "cat text.txt"
   ]
  },
  {
   "cell_type": "code",
   "execution_count": null,
   "metadata": {
    "collapsed": true
   },
   "outputs": [],
   "source": []
  },
  {
   "cell_type": "code",
   "execution_count": null,
   "metadata": {
    "collapsed": true
   },
   "outputs": [],
   "source": []
  },
  {
   "cell_type": "code",
   "execution_count": null,
   "metadata": {
    "collapsed": true
   },
   "outputs": [],
   "source": []
  },
  {
   "cell_type": "code",
   "execution_count": null,
   "metadata": {
    "collapsed": true
   },
   "outputs": [],
   "source": []
  },
  {
   "cell_type": "code",
   "execution_count": null,
   "metadata": {
    "collapsed": true
   },
   "outputs": [],
   "source": []
  },
  {
   "cell_type": "code",
   "execution_count": null,
   "metadata": {
    "collapsed": true
   },
   "outputs": [],
   "source": []
  },
  {
   "cell_type": "code",
   "execution_count": 48,
   "metadata": {
    "collapsed": false
   },
   "outputs": [
    {
     "name": "stdout",
     "output_type": "stream",
     "text": [
      "for a description of the tape drives available on your system.\r\n",
      "\r\n",
      "- Original: -\r\n",
      "\r\n",
      "Consult Section 3.1 in the Owner and Operator Guide\r\n",
      "Consult Section 3.1 in the Owner and Operator Guide\r\n",
      "for a description of the tape drives\r\n",
      "available on your system.\r\n"
     ]
    }
   ],
   "source": [
    "### Look for a pattern that spans two lines. If found, Print first line only.\n",
    "gsed -n '\n",
    "/drives/ { # If first pattern matched\n",
    "\tN # append a line\n",
    "    /drives.*available/{ # Look for a match between the first and second pattern, if fund\n",
    "\ts/drives.*available/drives available/ # Substitute everything between the patterns, print it and delete the first line\n",
    "    P\n",
    "    D }\n",
    "}' text.txt\n",
    "echo -e \"\\n- Original: -\\n\"\n",
    "cat text.txt"
   ]
  },
  {
   "cell_type": "code",
   "execution_count": 55,
   "metadata": {
    "collapsed": false
   },
   "outputs": [
    {
     "name": "stdout",
     "output_type": "stream",
     "text": [
      "Consult Section 3.1 in the Owner or Operator Guide\r\n",
      "Consult Section 3.1 in the Owner or Operator Guide\r\n"
     ]
    }
   ],
   "source": [
    "# Using variables\n",
    "match1=\"Guide\"\n",
    "change=\"and\"\n",
    "final=\"or\"\n",
    "sed -n '/'$match1'/ s/'$change'/'$final'/p' text.txt"
   ]
  },
  {
   "cell_type": "code",
   "execution_count": 306,
   "metadata": {
    "collapsed": false
   },
   "outputs": [
    {
     "name": "stdout",
     "output_type": "stream",
     "text": [
      "1 Consult Section 3.1 in the Owner and Operator Guide\r\n",
      "2 Consult Section 3.1 in the Owner and Operator Guide\r\n",
      "3 for a description of the tape drives\r\n",
      "4 available on your system.\r\n"
     ]
    }
   ],
   "source": [
    "## Here we should be able to better understand how = combined with N can yield a line-numbered file\n",
    "sed '=' text.txt | \\\n",
    "sed '{\n",
    "\tN\n",
    "\ts/\\n/ /\n",
    "}'"
   ]
  },
  {
   "cell_type": "markdown",
   "metadata": {},
   "source": [
    "# `sed` IRL\n",
    "\n",
    "Convert a multiline fasta into normal fasta format (without line breaks)"
   ]
  },
  {
   "cell_type": "code",
   "execution_count": 350,
   "metadata": {
    "collapsed": false
   },
   "outputs": [
    {
     "name": "stdout",
     "output_type": "stream",
     "text": [
      ">Gen001\r\n",
      "ggatttagcgcttattgttgggccttttttttttttttgctctgatggtttgtcagaagattattcgttaatgaattatgcgtttgttattgctgttgtcttcattttgaatgttggctctgaatttgattgaagctg\r\n",
      ">Gen002\r\n",
      "agaatggttggtatttgttgtgtccttctgcctcaagaagcttcaatctcaagatccttttgttttattttctgcagattgctttgttgatggtttattaggtatttttatatttgcagcagtctttttagcattgcagat\r\n",
      ">Gen003\r\n",
      "agaatggttggtatttgttgtgtccttctgcctcaagaagcttcaatctcaagat\r\n",
      ">Gen004a\r\n",
      ">Gen004b\r\n",
      "agaatggttggtatttgttgtgtccttctgcctcaagaagcttcaatctcaagat"
     ]
    }
   ],
   "source": [
    "gsed ' />/ !{ :Flow N; />/ !{ s/\\n// ;} ; tFlow ; P ; D ;} ' multiline.fa"
   ]
  },
  {
   "cell_type": "code",
   "execution_count": 351,
   "metadata": {
    "collapsed": false
   },
   "outputs": [
    {
     "name": "stdout",
     "output_type": "stream",
     "text": [
      ">Gen001\r\n",
      "ggatttagcgcttattgttgggccttttttttttttttgctctgatggtttgtcagaagattattcgttaatgaattatgcgtttgttattgctgttgtcttcattttgaatgttggctctgaatttgattgaagctg\r\n",
      ">Gen002\r\n",
      "agaatggttggtatttgttgtgtccttctgcctcaagaagcttcaatctcaagatccttttgttttattttctgcagattgctttgttgatggtttattaggtatttttatatttgcagcagtctttttagcattgcagat\r\n",
      ">Gen003\r\n",
      "agaatggttggtatttgttgtgtccttctgcctcaagaagcttcaatctcaagat\r\n",
      ">Gen004a\r\n",
      ">Gen004b\r\n",
      "agaatggttggtatttgttgtgtccttctgcctcaagaagcttcaatctcaagat"
     ]
    }
   ],
   "source": [
    "gsed '\n",
    "    />/ !{  #Check if line is a sequence header (If so, do not do the next) \n",
    "    :flow # Flow control\n",
    "    N; # Check next line\n",
    "        />/ !{ # Same, check if it is sequence header\n",
    "        s/\\n// ;}; # substitute the line break for nothing (ie, remove line break)\n",
    "    tflow ; P ; D ;} # back to flow control, Print and Delete previous line\n",
    "' multiline.fa"
   ]
  },
  {
   "cell_type": "code",
   "execution_count": 352,
   "metadata": {
    "collapsed": false
   },
   "outputs": [
    {
     "name": "stdout",
     "output_type": "stream",
     "text": [
      "@SRR1463325.1 HS2:447:C2DFYACXX:5:1101:1336:2178 length=59\r\n",
      "ATGTTAGTAACCGAACCTTCTTCAAAAAGGGCTAAGGGATAAGCTACATACGCAATAAA\r\n",
      "@SRR1463325.2 HS2:447:C2DFYACXX:5:1101:1364:2181 length=59\r\n",
      "ACGCATTTATTAGATAAAAGGTCGACGCGGGCTCTGCCCGTTGCTCTGATGATTCATGA\r\n",
      "@SRR1463325.3 HS2:447:C2DFYACXX:5:1101:1499:2208 length=59\r\n",
      "AGGACCTCTTTAGTATTTTTGTTGATGACCAAAGCACCAGCACCTACAACATGAGAAGC\r\n",
      "@SRR1463325.4 HS2:447:C2DFYACXX:5:1101:1648:2157 length=59\r\n",
      "NTGTAGAATCTATGTTGAATCACCATTTAGCAGGGCTACTAGGACTTGGGTCCCTTTCT\r\n",
      "@SRR1463325.5 HS2:447:C2DFYACXX:5:1101:1776:2228 length=59\r\n",
      "AGCCTCTTTCCGATCTTCTCAACTCCAAGGCTCTCAACGAACTTCCTCACTTCATCATC\r\n",
      "@SRR1463325.6 HS2:447:C2DFYACXX:5:1101:1956:2235 length=59\r\n",
      "AGAGTCAATAATTTTATATGAGGAACTACTGAACTCAATCACTTGCTGCCGTTACTCTT\r\n",
      "@SRR1463325.7 HS2:447:C2DFYACXX:5:1101:2058:2150 length=59\r\n",
      "NTGTTTGAGGGGGAGGTCATAAGCGTCTATACCGTAAAATAGATTTTCGACGAAATGCA\r\n",
      "@SRR1463325.8 HS2:447:C2DFYACXX:5:1101:2251:2171 length=59\r\n",
      "CTAAGGGTGGGTTGATAACCCACAGCAGAAGGCATTCTACCCAATAAGGCGGATACCTC\r\n"
     ]
    }
   ],
   "source": [
    "# Convert a fastq to fasta \n",
    "gsed '/+/,+1d' testQ32.fastq\n",
    "# Look for a + (identifies the quality section). From there (,) to the next (+1), remove (d)"
   ]
  },
  {
   "cell_type": "code",
   "execution_count": 353,
   "metadata": {
    "collapsed": false
   },
   "outputs": [
    {
     "name": "stdout",
     "output_type": "stream",
     "text": [
      ">Gen001\r\n",
      "ggaUUUagcgcUUaUUgUUgggccUUUUUUUUUUUUUUgcUcUgaUggUUUgUcagaagaUUaUUcgUUaaUgaaUUaUgcgUUUgUUaUUgcUgUUgUcUUcaUUUUgaaUgUUggcUcUgaaUUUgaUUgaagcUg\r\n",
      ">Gen002\r\n",
      "agaaUggUUggUaUUUgUUgUgUccUUcUgccUcaagaagcUUcaaUcUcaagaUccUUUUgUUUUaUUUUcUgcagaUUgcUUUgUUgaUggUUUaUUaggUaUUUUUaUaUUUgcagcagUcUUUUUagcaUUgcagaU\r\n",
      ">Gen003\r\n",
      "agaaUggUUggUaUUUgUUgUgUccUUcUgccUcaagaagcUUcaaUcUcaagaU\r\n",
      ">Gen004a\r\n",
      ">Gen004b\r\n",
      "agaaUggUUggUaUUUgUUgUgUccUUcUgccUcaagaagcUUcaaUcUcaagaU"
     ]
    }
   ],
   "source": [
    "## Transcribe to RNA\n",
    "gsed '\n",
    "    />/ !{  #Check if line is a sequence header (If so, do not do the next) \n",
    "    :flow # Flow control\n",
    "    y/t/U/; #C\n",
    "    N; # Check next line\n",
    "        />/ !{ # Same, check if it is sequence header\n",
    "        s/\\n//}; # substitute the line break for nothing (ie, remove line break)\n",
    "    tflow ; P ; D ; } # back to flow control, Print and Delete previous line\n",
    "\n",
    "' multiline.fa"
   ]
  },
  {
   "cell_type": "code",
   "execution_count": 354,
   "metadata": {
    "collapsed": false
   },
   "outputs": [
    {
     "name": "stdout",
     "output_type": "stream",
     "text": [
      ">Gen001\r\n",
      "CAGCTTCAATCAAATTCAGAGCCAACATTCAAAATGAAGACAACAGATCAGAGCAAAAAAAAAAAAAAGGCCCAACAATAAGCGCTAAATCCCCAAACAGTCTTCTAATAAGCAATTACTTAATACGCAAACAATAAC\r\n",
      ">Gen002\r\n",
      "ATCTGCAATGCTAAAAAGACTGCTGCAAATATAAAAATACCTAATAAATTGAAGCTTCTTGAGGCAGAAGGACACAACAAATACCAACCATTCTGAGTTCTAGGAAAACAAAATAAAAGACGTCTAACGAAACAACTACCA\r\n",
      ">Gen003\r\n",
      "ATCTTGAGATTGAAGCTTCTTGAGGCATCTTACCAACCATAAACAACACAGGAAG\r\n",
      ">Gen004a\r\n",
      ">Gen004b\r\n",
      "ATCTTGAGATTGAAGCTTCTTGAGGCAGAAGGACACAACAAATACCAACCATTCT\r\n"
     ]
    }
   ],
   "source": [
    "## Reverse complement\n",
    "gsed '\n",
    "    />/ !{  #Check if line is a sequence header (If so, do not do the next) \n",
    "    :flow # Flow control\n",
    "    y/actg/TGAC/; #Convert to RNA\n",
    "    # This reverses the line, taken from http://www.catonmat.net/blog/sed-one-liners-explained-part-one/\n",
    "    /\\n/ !G # If there is no end of line, append one.\n",
    "       # This is a loop driven by the //D\n",
    "       s/\\(.\\)\\(.*\\n\\)/&\\2\\1/ #1. Saves the patterns to remember \\(pat1\\) and \\(pat2\\) #Remember?\n",
    "       # Saves one character to pat1 and the rest until the line break to pat2. Then pastes everything inverted.\n",
    "       # ACTG\\n --> ACTG\\nCTG\\nA\n",
    "       //D # 2. Deletes from the start of the line to the \\n the existing pattern\n",
    "       # So ACTG\\nCTG\\nA --> CTG\\nA\n",
    "       # It will repeat the pattern until \\nGTCA:\n",
    "            #ACTG\\n\n",
    "            #CTG\\nA\n",
    "            #TG\\nCA\n",
    "            #G\\nTCA\n",
    "            #\\nGTCA\n",
    "       s/.// # This one removes the first character in the reversed sequence (which would be a new line)\n",
    "            #GTCA\n",
    "    # Done reversing   \n",
    "    N; # Check next line\n",
    "        />/ !{ # Same, check if it is sequence header\n",
    "        s/\\n//}; # substitute the line break for nothing (ie, remove line break)\n",
    "    tflow ; P ; D ; } # back to flow control, Print and Delete previous line\n",
    "' multiline.fa"
   ]
  },
  {
   "cell_type": "code",
   "execution_count": 355,
   "metadata": {
    "collapsed": false
   },
   "outputs": [
    {
     "name": "stdout",
     "output_type": "stream",
     "text": [
      ">Gen001\r\n",
      "CAGCTTCAATCAAATTCAGAGCCAACATTCAAAATGAAGACAACAGATCAGAGCAAAAAAAAAAAAAAGGCCCAACAATAAGCGCTAAATCCCCAAACAGTCTTCTAATAAGCAATTACTTAATACGCAAACAATAAC\r\n",
      ">Gen002\r\n",
      "ATCTGCAATGCTAAAAAGACTGCTGCAAATATAAAAATACCTAATAAATTGAAGCTTCTTGAGGCAGAAGGACACAACAAATACCAACCATTCTGAGTTCTAGGAAAACAAAATAAAAGACGTCTAACGAAACAACTACCA\r\n",
      ">Gen003\r\n",
      "ATCTTGAGATTGAAGCTTCTTGAGGCATCTTACCAACCATAAACAACACAGGAAG\r\n",
      ">Gen004a\r\n",
      ">Gen004b\r\n",
      "ATCTTGAGATTGAAGCTTCTTGAGGCAGAAGGACACAACAAATACCAACCATTCT\r\n"
     ]
    }
   ],
   "source": [
    "## Reverse complement a DNA multifasta oneliner\n",
    "gsed '/>/ !{ :flow y/actg/TGAC/; /\\n/!G;s/\\(.\\)\\(.*\\n\\)/&\\2\\1/;//D;s/.//; N; />/ !{ s/\\n//}; t flow ; P ; D ; } ' multiline.fa"
   ]
  },
  {
   "cell_type": "code",
   "execution_count": null,
   "metadata": {
    "collapsed": true
   },
   "outputs": [],
   "source": []
  },
  {
   "cell_type": "code",
   "execution_count": null,
   "metadata": {
    "collapsed": true
   },
   "outputs": [],
   "source": []
  },
  {
   "cell_type": "code",
   "execution_count": null,
   "metadata": {
    "collapsed": true
   },
   "outputs": [],
   "source": []
  },
  {
   "cell_type": "markdown",
   "metadata": {},
   "source": [
    "# Resources\n",
    "\n",
    "* www.grymoire.com/Unix/sed.html\n",
    "* https://www.gnu.org/software/sed/manual/sed.html\n",
    "* https://www.ibm.com/developerworks/library/l-sed1/index.html\n",
    "* https://www.gnu.org/software/sed/manual/html_node/Branching-and-flow-control.html"
   ]
  },
  {
   "cell_type": "code",
   "execution_count": null,
   "metadata": {
    "collapsed": true
   },
   "outputs": [],
   "source": []
  }
 ],
 "metadata": {
  "kernelspec": {
   "display_name": "Bash",
   "language": "bash",
   "name": "bash"
  },
  "language_info": {
   "codemirror_mode": "shell",
   "file_extension": ".sh",
   "mimetype": "text/x-sh",
   "name": "bash"
  }
 },
 "nbformat": 4,
 "nbformat_minor": 2
}
